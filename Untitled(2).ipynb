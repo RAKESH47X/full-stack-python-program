{
 "cells": [
  {
   "cell_type": "code",
   "execution_count": 1,
   "id": "cdd2b524-0a90-4c98-8781-be2b65b9f728",
   "metadata": {},
   "outputs": [
    {
     "name": "stdout",
     "output_type": "stream",
     "text": [
      "hello,python full stack students!\n"
     ]
    }
   ],
   "source": [
    "print(\"hello,python full stack students!\")"
   ]
  },
  {
   "cell_type": "code",
   "execution_count": 2,
   "id": "ab9c0291-2c2e-47a3-bbc8-abc1c8962a83",
   "metadata": {},
   "outputs": [
    {
     "name": "stdout",
     "output_type": "stream",
     "text": [
      "hii guys i am raksh!\n"
     ]
    }
   ],
   "source": [
    "print(\"hii guys i am raksh!\")"
   ]
  },
  {
   "cell_type": "code",
   "execution_count": 8,
   "id": "0455bc22-1f55-42b1-8133-74c860226096",
   "metadata": {},
   "outputs": [
    {
     "name": "stdout",
     "output_type": "stream",
     "text": [
      "rakesh 20 9.5 True\n"
     ]
    }
   ],
   "source": [
    "name=\"rakesh\"\n",
    "age=20\n",
    "gpa=9.5\n",
    "is_student=True\n",
    "print(name,age,gpa,is_student)"
   ]
  },
  {
   "cell_type": "code",
   "execution_count": 10,
   "id": "e24cb966-c8a4-45ea-a968-15e77f4c5b15",
   "metadata": {},
   "outputs": [
    {
     "name": "stdout",
     "output_type": "stream",
     "text": [
      "rakesh 20 9.5 True\n"
     ]
    }
   ],
   "source": [
    "name=\"yesh\"\n",
    "age=20\n",
    "gpa=9.5\n",
    "is_student=True\n",
    "print(name,age,gpa,is_student)"
   ]
  },
  {
   "cell_type": "code",
   "execution_count": 14,
   "id": "91d28a2d-04b7-4243-ae02-7a8d36d5a725",
   "metadata": {},
   "outputs": [
    {
     "name": "stdout",
     "output_type": "stream",
     "text": [
      "<class 'int'> <class 'float'> <class 'str'> <class 'bool'>\n"
     ]
    }
   ],
   "source": [
    "x=10\n",
    "y=3.14\n",
    "z=\"python\"\n",
    "flag=False\n",
    "print(type(x),type(y),type(z),type(flag))"
   ]
  },
  {
   "cell_type": "code",
   "execution_count": 15,
   "id": "f9f0c73b-a64d-49fc-aedb-9e083d85e7f0",
   "metadata": {},
   "outputs": [
    {
     "name": "stdout",
     "output_type": "stream",
     "text": [
      "rakesh aviash college of commercce python\n"
     ]
    }
   ],
   "source": [
    "name=\"rakesh\"\n",
    "college=\"aviash college of commercce\"\n",
    "favorite_programing_languag=\"python\"\n",
    "print(name,college,favorite_programing_languag)"
   ]
  },
  {
   "cell_type": "code",
   "execution_count": 18,
   "id": "e6db8108-305d-4273-830b-fd6541d0e812",
   "metadata": {},
   "outputs": [
    {
     "name": "stdout",
     "output_type": "stream",
     "text": [
      "20\n"
     ]
    }
   ],
   "source": [
    "bith_year=2005\n",
    "current_year=2025\n",
    "print(current_year-bith_year)"
   ]
  },
  {
   "cell_type": "markdown",
   "id": "2fd93ebf-816e-4f08-b735-7041e29b58fd",
   "metadata": {},
   "source": []
  },
  {
   "cell_type": "code",
   "execution_count": 21,
   "id": "158f93f3-8515-4ab9-a272-fc7f63e723ec",
   "metadata": {},
   "outputs": [
    {
     "name": "stdout",
     "output_type": "stream",
     "text": [
      "vip 2025 5.5\n"
     ]
    }
   ],
   "source": [
    "movie_name=\"vip\"\n",
    "release_year=2025\n",
    "rating=5.5\n",
    "print(movie_name,release_year,rating)"
   ]
  },
  {
   "cell_type": "code",
   "execution_count": 22,
   "id": "abd5d3c1-5a84-4583-99c4-1a54ec2eb57d",
   "metadata": {},
   "outputs": [
    {
     "name": "stdout",
     "output_type": "stream",
     "text": [
      "addition: 19\n"
     ]
    }
   ],
   "source": [
    "a=15\n",
    "b=4\n",
    "print(\"addition:\",a+b)"
   ]
  },
  {
   "cell_type": "code",
   "execution_count": 23,
   "id": "a4e8ca5a-b801-4262-a3e6-0ca21fc6d7b0",
   "metadata": {},
   "outputs": [
    {
     "name": "stdout",
     "output_type": "stream",
     "text": [
      "Division: 3.75\n"
     ]
    }
   ],
   "source": [
    "print(\"Division:\",a/b)"
   ]
  },
  {
   "cell_type": "code",
   "execution_count": 24,
   "id": "a7b3c6fb-53b5-4f64-bc98-42cbb53e4434",
   "metadata": {},
   "outputs": [
    {
     "name": "stdout",
     "output_type": "stream",
     "text": [
      "floor Division: 3\n"
     ]
    }
   ],
   "source": [
    "print(\"floor Division:\",a//b)"
   ]
  },
  {
   "cell_type": "code",
   "execution_count": 25,
   "id": "6b7790bb-0890-4590-a31a-db6d60bf95fd",
   "metadata": {},
   "outputs": [
    {
     "name": "stdout",
     "output_type": "stream",
     "text": [
      "power: 50625\n"
     ]
    }
   ],
   "source": [
    "print(\"power:\",a**b)"
   ]
  },
  {
   "cell_type": "code",
   "execution_count": 29,
   "id": "1bd94477-d046-4098-9c67-9d40786ce5d4",
   "metadata": {},
   "outputs": [
    {
     "name": "stdout",
     "output_type": "stream",
     "text": [
      "True\n"
     ]
    }
   ],
   "source": [
    "a=10\n",
    "b=20\n",
    "print((a<b)and(b==20))"
   ]
  },
  {
   "cell_type": "code",
   "execution_count": 30,
   "id": "2d27e859-b43f-4c80-984d-7e0d4633dfb4",
   "metadata": {},
   "outputs": [
    {
     "name": "stdout",
     "output_type": "stream",
     "text": [
      "True\n"
     ]
    }
   ],
   "source": [
    "a=10\n",
    "b=20\n",
    "print(a==10)"
   ]
  },
  {
   "cell_type": "code",
   "execution_count": 31,
   "id": "96d206c7-6e93-4b0c-b948-6dcabc4d075c",
   "metadata": {},
   "outputs": [
    {
     "name": "stdout",
     "output_type": "stream",
     "text": [
      "False\n"
     ]
    }
   ],
   "source": [
    "a=10\n",
    "b=20\n",
    "print(a>b)"
   ]
  },
  {
   "cell_type": "code",
   "execution_count": null,
   "id": "c663105c-05b9-487d-8a6a-21d94c5faa2b",
   "metadata": {},
   "outputs": [],
   "source": []
  }
 ],
 "metadata": {
  "kernelspec": {
   "display_name": "Python [conda env:base] *",
   "language": "python",
   "name": "conda-base-py"
  },
  "language_info": {
   "codemirror_mode": {
    "name": "ipython",
    "version": 3
   },
   "file_extension": ".py",
   "mimetype": "text/x-python",
   "name": "python",
   "nbconvert_exporter": "python",
   "pygments_lexer": "ipython3",
   "version": "3.13.5"
  }
 },
 "nbformat": 4,
 "nbformat_minor": 5
}
