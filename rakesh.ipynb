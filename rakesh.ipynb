{
 "cells": [
  {
   "cell_type": "code",
   "execution_count": 2,
   "id": "6459368f-1c77-4d12-a2f1-83d7f4e44b48",
   "metadata": {},
   "outputs": [
    {
     "name": "stdout",
     "output_type": "stream",
     "text": [
      "['apple', 'banana', 'mango', 'orange']\n"
     ]
    }
   ],
   "source": [
    "fruits=[\"apple\",\"banana\",\"mango\"]\n",
    "fruits.append(\"orange\")\n",
    "print(fruits)"
   ]
  },
  {
   "cell_type": "code",
   "execution_count": 4,
   "id": "c13a3dbe-7004-47e0-bd59-81030068c164",
   "metadata": {},
   "outputs": [
    {
     "name": "stdout",
     "output_type": "stream",
     "text": [
      "green\n"
     ]
    }
   ],
   "source": [
    "colors=(\"red\",\"green\",\"blue\")\n",
    "print(colors[1])"
   ]
  },
  {
   "cell_type": "code",
   "execution_count": 9,
   "id": "6e2adfb0-35db-493c-bc20-3951003b0398",
   "metadata": {},
   "outputs": [
    {
     "name": "stdout",
     "output_type": "stream",
     "text": [
      "banana\n"
     ]
    }
   ],
   "source": [
    "fruits=[\"apple\",\"banana\",\"mango\"]\n",
    "fruits.append(\"orange\")\n",
    "print(fruits[1])"
   ]
  },
  {
   "cell_type": "code",
   "execution_count": 11,
   "id": "d46d18cf-dd0a-4814-8a8a-5a01df34544b",
   "metadata": {},
   "outputs": [
    {
     "name": "stdout",
     "output_type": "stream",
     "text": [
      "['banana', 'mango']\n"
     ]
    }
   ],
   "source": [
    "fruits=[\"apple\",\"banana\",\"mango\"]\n",
    "fruits.remove(\"apple\")\n",
    "print(fruits)"
   ]
  },
  {
   "cell_type": "code",
   "execution_count": 12,
   "id": "1b2cd11d-2688-43d8-a696-2b794ca6dafa",
   "metadata": {},
   "outputs": [
    {
     "name": "stdout",
     "output_type": "stream",
     "text": [
      "['apple', 'banana', 'mango']\n"
     ]
    }
   ],
   "source": [
    "fruits=[\"apple\",\"banana\",\"mango\"]\n",
    "fruits.sort()\n",
    "print(fruits)"
   ]
  },
  {
   "cell_type": "code",
   "execution_count": 13,
   "id": "2e5c0c65-8c4e-4fe1-8dd3-248458c16a21",
   "metadata": {},
   "outputs": [
    {
     "name": "stdout",
     "output_type": "stream",
     "text": [
      "red\n"
     ]
    }
   ],
   "source": [
    "colors=(\"red\",\"green\",\"blue\")\n",
    "print(colors[0])"
   ]
  },
  {
   "cell_type": "code",
   "execution_count": 16,
   "id": "f447b8ab-7a79-4dc7-bde0-548d6881dff6",
   "metadata": {},
   "outputs": [
    {
     "name": "stdout",
     "output_type": "stream",
     "text": [
      "blue\n"
     ]
    }
   ],
   "source": [
    "olors=(\"red\",\"green\",\"blue\")\n",
    "print(colors[2])\n",
    "#colors[1]=\"yellow\""
   ]
  },
  {
   "cell_type": "code",
   "execution_count": 18,
   "id": "8fc5beed-e221-4fe6-9879-affd00b533ee",
   "metadata": {},
   "outputs": [
    {
     "name": "stdout",
     "output_type": "stream",
     "text": [
      "{1, 2, 3, 4, 5}\n"
     ]
    }
   ],
   "source": [
    "numbers={1,2,3,4,}\n",
    "numbers.add(5)\n",
    "print(numbers) #{1,2,3,4,5}"
   ]
  },
  {
   "cell_type": "code",
   "execution_count": 22,
   "id": "68ea653b-75f5-4142-83f7-7df7647bc756",
   "metadata": {},
   "outputs": [
    {
     "name": "stdout",
     "output_type": "stream",
     "text": [
      "rakhi\n"
     ]
    }
   ],
   "source": [
    "student={\n",
    "    \"name\":\"rakhi\",\n",
    "    \"age\":20,\n",
    "    \"course\":\"Python Full Stack\"\n",
    "}\n",
    "print(student[\"name\"])"
   ]
  },
  {
   "cell_type": "code",
   "execution_count": 25,
   "id": "42f3ffcc-c5aa-4fb8-9066-48060ad79822",
   "metadata": {},
   "outputs": [
    {
     "name": "stdout",
     "output_type": "stream",
     "text": [
      "rakhi\n",
      "{'name': 'rakhi', 'age': 20, 'course': 'Python full Stack'}\n"
     ]
    }
   ],
   "source": [
    "student={\n",
    "    \"name\":\"rakhi\",\n",
    "    \"age\": 20,\n",
    "    \"course\":\"Python full Stack\"}\n",
    "print(student[\"name\"])\n",
    "student[\"age\"]=20\n",
    "print(student)"
   ]
  },
  {
   "cell_type": "code",
   "execution_count": 26,
   "id": "e170b9fa-c6a2-4fbe-b5ea-e3ea74ec2399",
   "metadata": {},
   "outputs": [
    {
     "name": "stdout",
     "output_type": "stream",
     "text": [
      "dict_keys(['name', 'age', 'course', 'college'])\n",
      "dict_values(['rakhi', 20, 'Python full Stack', 'ABC university'])\n"
     ]
    }
   ],
   "source": [
    "student[\"college\"]=\"ABC university\"\n",
    "# add new key\n",
    "print(student.keys())\n",
    "print(student.values())"
   ]
  },
  {
   "cell_type": "code",
   "execution_count": 31,
   "id": "493f5f23-2363-4f3e-adc8-9c341638fa59",
   "metadata": {},
   "outputs": [
    {
     "name": "stdout",
     "output_type": "stream",
     "text": [
      "Grade:B\n"
     ]
    }
   ],
   "source": [
    "marks=75\n",
    "if marks>=90:\n",
    " print(\"grade:A\")\n",
    "elif marks >=75:\n",
    " print(\"Grade:B\")\n",
    "elif marks >=50:\n",
    " print(\"grade:C\")\n",
    "else:\n",
    " print(\"grade:Fail\")"
   ]
  },
  {
   "cell_type": "code",
   "execution_count": 38,
   "id": "60b5455a-4141-42b0-b0e0-8163e0795315",
   "metadata": {},
   "outputs": [
    {
     "name": "stdout",
     "output_type": "stream",
     "text": [
      "Namber: 1\n",
      "Namber: 2\n",
      "Namber: 3\n",
      "Namber: 4\n",
      "Namber: 5\n",
      "Namber: 6\n",
      "Namber: 7\n"
     ]
    }
   ],
   "source": [
    "for i in range(1, 8):\n",
    "    print(\"Namber:\",i)"
   ]
  },
  {
   "cell_type": "code",
   "execution_count": 2,
   "id": "caaaac4f-ff88-43d5-b3c8-f361c6553bbd",
   "metadata": {},
   "outputs": [
    {
     "name": "stdout",
     "output_type": "stream",
     "text": [
      "count: 1\n",
      "count: 2\n",
      "count: 3\n",
      "count: 4\n",
      "count: 5\n"
     ]
    }
   ],
   "source": [
    "count=1\n",
    "while count <=5:\n",
    "    print(\"count:\", count)\n",
    "    count +=1"
   ]
  },
  {
   "cell_type": "code",
   "execution_count": 5,
   "id": "08c7155c-a52c-4391-8ad0-6fd5e10f36ac",
   "metadata": {},
   "outputs": [
    {
     "name": "stdout",
     "output_type": "stream",
     "text": [
      "5\n"
     ]
    }
   ],
   "source": [
    "for i in range(1,10):\n",
    "    if i==5:\n",
    "        print(i)"
   ]
  },
  {
   "cell_type": "code",
   "execution_count": null,
   "id": "f0e1a0c7-bfb8-4797-8b2b-b4b619e0e60a",
   "metadata": {},
   "outputs": [],
   "source": []
  }
 ],
 "metadata": {
  "kernelspec": {
   "display_name": "Python [conda env:base] *",
   "language": "python",
   "name": "conda-base-py"
  },
  "language_info": {
   "codemirror_mode": {
    "name": "ipython",
    "version": 3
   },
   "file_extension": ".py",
   "mimetype": "text/x-python",
   "name": "python",
   "nbconvert_exporter": "python",
   "pygments_lexer": "ipython3",
   "version": "3.13.5"
  }
 },
 "nbformat": 4,
 "nbformat_minor": 5
}
